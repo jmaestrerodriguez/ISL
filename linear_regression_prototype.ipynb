{
 "cells": [
  {
   "cell_type": "code",
   "execution_count": 33,
   "metadata": {},
   "outputs": [],
   "source": [
    "def mean(L):\n",
    "    return sum(L)/len(L)\n",
    "\n",
    "def linear_regression(X, Y):\n",
    "    \n",
    "    X_mean, Y_mean  = mean(X), mean(Y)\n",
    "    \n",
    "    slope_numerator = sum([(x - X_mean) * (y - Y_mean) for x, y in zip(X,Y)])\n",
    "    slope_denominator = sum([(x - X_mean)**2 for x in X])\n",
    "    \n",
    "    slope = slope_numerator / slope_denominator\n",
    "    intercept = Y_mean - slope * X_mean\n",
    "    \n",
    "    RSS = sum([(y - (intercept + slope * x))**2 for x, y in zip(X,Y)])\n",
    "    \n",
    "    return slope, intercept, RSS"
   ]
  },
  {
   "cell_type": "code",
   "execution_count": 36,
   "metadata": {},
   "outputs": [
    {
     "data": {
      "text/plain": [
       "(3.2, 19.6, 5283.6)"
      ]
     },
     "execution_count": 36,
     "metadata": {},
     "output_type": "execute_result"
    }
   ],
   "source": [
    "linear_regression([0,1,2,3,4],[1,3,5,7,9])\n",
    "linear_regression([0,1,2,3,4],[4,6,91,12,17])"
   ]
  }
 ],
 "metadata": {
  "kernelspec": {
   "display_name": "Python 3",
   "language": "python",
   "name": "python3"
  },
  "language_info": {
   "codemirror_mode": {
    "name": "ipython",
    "version": 3
   },
   "file_extension": ".py",
   "mimetype": "text/x-python",
   "name": "python",
   "nbconvert_exporter": "python",
   "pygments_lexer": "ipython3",
   "version": "3.8.5"
  }
 },
 "nbformat": 4,
 "nbformat_minor": 4
}
