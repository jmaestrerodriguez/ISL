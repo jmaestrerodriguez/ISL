{
 "cells": [
  {
   "cell_type": "code",
   "execution_count": 19,
   "metadata": {},
   "outputs": [],
   "source": [
    "from math import sqrt\n",
    "\n",
    "def mean(L):\n",
    "    \"\"\"Returns the mean of the elements of a list.\"\"\"\n",
    "    return sum(L)/len(L)\n",
    "\n",
    "def linear_regression(X, Y):\n",
    "    \"\"\"\n",
    "    Simple linear regression Y on X.\n",
    "    \n",
    "    \n",
    "    Keyword Arguments:\n",
    "    X -- the predictor\n",
    "    Y -- the response\n",
    "    \"\"\"\n",
    "    \n",
    "    n = len(X)\n",
    "    X_mean, Y_mean  = mean(X), mean(Y)\n",
    "    \n",
    "    slope_numerator = sum([(x - X_mean) * (y - Y_mean) for x, y in zip(X,Y)])\n",
    "    slope_denominator = sum([(x - X_mean)**2 for x in X])\n",
    "    \n",
    "    slope = slope_numerator / slope_denominator\n",
    "    intercept = Y_mean - slope * X_mean\n",
    "    \n",
    "    RSS = sum([(y - (intercept + slope * x))**2 for x, y in zip(X,Y)])\n",
    "    RSE = sqrt(RSS / (n - 2))\n",
    "    \n",
    "    \n",
    "    SE_slope = sqrt((RSE**2) * ((1/n) + (X_mean**2 / slope_denominator)))\n",
    "    SE_intercept = sqrt((RSE**2) / slope_denominator)\n",
    "    \n",
    "    \n",
    "    \n",
    "    return slope, intercept, RSS, SE_slope, SE_intercept"
   ]
  },
  {
   "cell_type": "code",
   "execution_count": 20,
   "metadata": {},
   "outputs": [
    {
     "data": {
      "text/plain": [
       "(3.2, 19.6, 5283.6, 32.50722996504009, 13.271021060943278)"
      ]
     },
     "execution_count": 20,
     "metadata": {},
     "output_type": "execute_result"
    }
   ],
   "source": [
    "linear_regression([0,1,2,3,4],[1,3,5,7,9])\n",
    "linear_regression([0,1,2,3,4],[4,6,91,12,17])"
   ]
  },
  {
   "cell_type": "code",
   "execution_count": 22,
   "metadata": {},
   "outputs": [
    {
     "name": "stdout",
     "output_type": "stream",
     "text": [
      "Help on function mean in module __main__:\n",
      "\n",
      "mean(L)\n",
      "    Returns the mean of the elements of a list.\n",
      "\n",
      "Help on function linear_regression in module __main__:\n",
      "\n",
      "linear_regression(X, Y)\n",
      "    Simple linear regression Y on X\n",
      "    \n",
      "    Keyword Arguments:\n",
      "    X -- the predictor\n",
      "    Y -- the response\n",
      "\n"
     ]
    }
   ],
   "source": [
    "help(mean)\n",
    "help(linear_regression)"
   ]
  }
 ],
 "metadata": {
  "kernelspec": {
   "display_name": "Python 3",
   "language": "python",
   "name": "python3"
  },
  "language_info": {
   "codemirror_mode": {
    "name": "ipython",
    "version": 3
   },
   "file_extension": ".py",
   "mimetype": "text/x-python",
   "name": "python",
   "nbconvert_exporter": "python",
   "pygments_lexer": "ipython3",
   "version": "3.8.5"
  }
 },
 "nbformat": 4,
 "nbformat_minor": 4
}
