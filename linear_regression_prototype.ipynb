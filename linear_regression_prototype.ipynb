{
 "cells": [
  {
   "cell_type": "code",
   "execution_count": 1,
   "metadata": {},
   "outputs": [],
   "source": [
    "SEED = 666\n",
    "\n",
    "from random import normalvariate\n",
    "from random import uniform\n",
    "from math import sqrt\n",
    "\n",
    "def generate_dataset(n, x_min, x_max, slope, intercept, e_mean, e_std):\n",
    "    \"\"\"\n",
    "    Generates a dataset according to the input parameters\n",
    "    \n",
    "    Keyword Arguments:\n",
    "    n:            number of observations\n",
    "    x_min, x_max: limits of the preditor's range (x_min <= x <= x_max)\n",
    "    slope:        slope of the true linear model\n",
    "    intercept:    intercept of the true linear model\n",
    "    e_mean:       error term mean\n",
    "    e_std:        error term standard deviation\n",
    "    \n",
    "    Output:\n",
    "    X: predictor values\n",
    "    Y: response values\n",
    "    \"\"\"\n",
    "    \n",
    "    X = [uniform(x_min,x_max) for _ in range(n)]\n",
    "    Y = [intercept + slope * x + normalvariate(e_mean,e_std) for x in X]\n",
    "    \n",
    "    return X, Y\n",
    "    \n",
    "def mean(L):\n",
    "    \"\"\"Returns the mean of the elements of a list.\"\"\"\n",
    "    return sum(L)/len(L)\n",
    "\n",
    "def linear_regression(X, Y):\n",
    "    \"\"\"\n",
    "    Simple linear regression Y on X.\n",
    "    \n",
    "    \n",
    "    Keyword Arguments:\n",
    "    X -- the predictor\n",
    "    Y -- the response\n",
    "    \"\"\"\n",
    "    \n",
    "    n = len(X)\n",
    "    X_mean, Y_mean  = mean(X), mean(Y)\n",
    "    \n",
    "    slope_numerator = sum([(x - X_mean) * (y - Y_mean) for x, y in zip(X,Y)])\n",
    "    slope_denominator = sum([(x - X_mean)**2 for x in X])\n",
    "    \n",
    "    slope = slope_numerator / slope_denominator\n",
    "    intercept = Y_mean - slope * X_mean\n",
    "    \n",
    "    RSS = sum([(y - (intercept + slope * x))**2 for x, y in zip(X,Y)])\n",
    "    RSE = sqrt(RSS / (n - 2))\n",
    "    \n",
    "    \n",
    "    SE_slope = sqrt((RSE**2) * ((1/n) + (X_mean**2 / slope_denominator)))\n",
    "    SE_intercept = sqrt((RSE**2) / slope_denominator)\n",
    "    \n",
    "    \n",
    "    \n",
    "    return slope, intercept, RSS, SE_slope, SE_intercept"
   ]
  },
  {
   "cell_type": "code",
   "execution_count": 7,
   "metadata": {},
   "outputs": [
    {
     "data": {
      "text/plain": [
       "(0.9994748010471696,\n",
       " -0.029963914417846516,\n",
       " 19.19228365708341,\n",
       " 0.04425711949807501,\n",
       " 0.0075978552737142845)"
      ]
     },
     "execution_count": 7,
     "metadata": {},
     "output_type": "execute_result"
    }
   ],
   "source": [
    "linear_regression([0,1,2,3,4],[1,3,5,7,9])\n",
    "\n",
    "X, Y = generate_dataset(100,-10,10,1,0,0,0.5)\n",
    "\n",
    "linear_regression(X,Y)"
   ]
  },
  {
   "cell_type": "code",
   "execution_count": 4,
   "metadata": {},
   "outputs": [
    {
     "name": "stdout",
     "output_type": "stream",
     "text": [
      "Help on function mean in module __main__:\n",
      "\n",
      "mean(L)\n",
      "    Returns the mean of the elements of a list.\n",
      "\n",
      "Help on function linear_regression in module __main__:\n",
      "\n",
      "linear_regression(X, Y)\n",
      "    Simple linear regression Y on X.\n",
      "    \n",
      "    \n",
      "    Keyword Arguments:\n",
      "    X -- the predictor\n",
      "    Y -- the response\n",
      "\n",
      "Help on function generate_dataset in module __main__:\n",
      "\n",
      "generate_dataset(n, x_min, x_max, slope, intercept, e_mean, e_std)\n",
      "    Generates a dataset according to the input parameters\n",
      "    \n",
      "    Keyword Arguments:\n",
      "    n: number of observations\n",
      "    slope: slope of the true linear model\n",
      "    intercept: intercept of the true linear model\n",
      "    e_mean: error term mean\n",
      "    e_std: error term standard deviation\n",
      "    \n",
      "    Output:\n",
      "    X: predictor values\n",
      "    Y: response values\n",
      "\n"
     ]
    }
   ],
   "source": [
    "help(mean)\n",
    "help(linear_regression)\n",
    "help(generate_dataset)"
   ]
  },
  {
   "cell_type": "code",
   "execution_count": null,
   "metadata": {},
   "outputs": [],
   "source": []
  }
 ],
 "metadata": {
  "kernelspec": {
   "display_name": "Python 3",
   "language": "python",
   "name": "python3"
  },
  "language_info": {
   "codemirror_mode": {
    "name": "ipython",
    "version": 3
   },
   "file_extension": ".py",
   "mimetype": "text/x-python",
   "name": "python",
   "nbconvert_exporter": "python",
   "pygments_lexer": "ipython3",
   "version": "3.8.5"
  }
 },
 "nbformat": 4,
 "nbformat_minor": 4
}
