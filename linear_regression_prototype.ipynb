{
 "cells": [
  {
   "cell_type": "code",
   "execution_count": 15,
   "metadata": {},
   "outputs": [],
   "source": [
    "SEED = 666\n",
    "\n",
    "from random import normalvariate\n",
    "from random import uniform\n",
    "from math import sqrt\n",
    "\n",
    "def generate_dataset(n, x_min, x_max, slope, intercept, e_mean, e_std):\n",
    "    \"\"\"\n",
    "    Generates a dataset according to the input parameters\n",
    "    \n",
    "    Keyword Arguments:\n",
    "    n:            number of observations\n",
    "    x_min, x_max: limits of the preditor's range (x_min <= x <= x_max)\n",
    "    slope:        slope of the true linear model\n",
    "    intercept:    intercept of the true linear model\n",
    "    e_mean:       error term mean\n",
    "    e_std:        error term standard deviation\n",
    "    \n",
    "    Output:\n",
    "    X: predictor values\n",
    "    Y: response values\n",
    "    \"\"\"\n",
    "    \n",
    "    X = [uniform(x_min,x_max) for _ in range(n)]\n",
    "    Y = [intercept + slope * x + normalvariate(e_mean,e_std) for x in X]\n",
    "    \n",
    "    return X, Y\n",
    "    \n",
    "def mean(L):\n",
    "    \"\"\"Returns the mean of the elements of a list.\"\"\"\n",
    "    return sum(L)/len(L)\n",
    "\n",
    "def linear_regression(X, Y):\n",
    "    \"\"\"\n",
    "    Simple linear regression Y on X.\n",
    "    \n",
    "    Keyword Arguments:\n",
    "    X: the predictor\n",
    "    Y: the response\n",
    "    \n",
    "    Output:\n",
    "    slope:        slope of the line of best fit\n",
    "    intercept:    intercept of the line of best fit\n",
    "    RSS:          residual sum of squares of the model\n",
    "    slope_SE:     standard error of the slope\n",
    "    intercept_SE: standard error of the intercept\n",
    "    slope_CI:     95% confidence interval of the slope\n",
    "    intercept_CI: 95% condidence interval of the intercept\n",
    "    t_statistic:  \n",
    "    \"\"\"\n",
    "    \n",
    "    n = len(X)\n",
    "    X_mean, Y_mean = mean(X), mean(Y)\n",
    "    \n",
    "    slope_numerator   = sum([(x - X_mean) * (y - Y_mean) for x, y in zip(X,Y)])\n",
    "    slope_denominator = sum([(x - X_mean)**2 for x in X])\n",
    "    \n",
    "    slope     = slope_numerator / slope_denominator\n",
    "    intercept = Y_mean - slope * X_mean\n",
    "    \n",
    "    RSS = sum([(y - (intercept + slope * x))**2 for x, y in zip(X,Y)])\n",
    "    RSE = sqrt(RSS / (n - 2))\n",
    "    \n",
    "    \n",
    "    slope_SE     = sqrt((RSE**2) * ((1/n) + (X_mean**2 / slope_denominator)))\n",
    "    intercept_SE = sqrt((RSE**2) / slope_denominator)\n",
    "    \n",
    "    slope_CI = [slope - 2 * slope_SE, slope + 2 * slope_SE]\n",
    "    intercept_CI = [intercept - 2 * intercept_SE, intercept + 2 * intercept_SE]\n",
    "    \n",
    "    t_statistic = slope / slope_SE # bug when slope_SE = 0\n",
    " \n",
    "    return slope, intercept, RSS, slope_SE, intercept_SE, slope_CI, intercept_CI, t_statistic"
   ]
  },
  {
   "cell_type": "code",
   "execution_count": 16,
   "metadata": {},
   "outputs": [
    {
     "data": {
      "text/plain": [
       "(0.9703115377642096,\n",
       " 0.25703931973716077,\n",
       " 0.8150120618974365,\n",
       " 0.10249384261342785,\n",
       " 0.016385321343671346,\n",
       " [0.7653238525373539, 1.1752992229910653],\n",
       " [0.22426867704981807, 0.28980996242450346],\n",
       " 9.46702273056438)"
      ]
     },
     "execution_count": 16,
     "metadata": {},
     "output_type": "execute_result"
    }
   ],
   "source": [
    "#linear_regression([0,1,2,3,4],[1,3,5,7,9])\n",
    "\n",
    "X, Y = generate_dataset(10,-10,10,1,0,0,0.5)\n",
    "\n",
    "linear_regression(X,Y)"
   ]
  },
  {
   "cell_type": "code",
   "execution_count": 17,
   "metadata": {},
   "outputs": [
    {
     "name": "stdout",
     "output_type": "stream",
     "text": [
      "Help on function mean in module __main__:\n",
      "\n",
      "mean(L)\n",
      "    Returns the mean of the elements of a list.\n",
      "\n",
      "Help on function linear_regression in module __main__:\n",
      "\n",
      "linear_regression(X, Y)\n",
      "    Simple linear regression Y on X.\n",
      "    \n",
      "    Keyword Arguments:\n",
      "    X: the predictor\n",
      "    Y: the response\n",
      "    \n",
      "    Output:\n",
      "    slope:        slope of the line of best fit\n",
      "    intercept:    intercept of the line of best fit\n",
      "    RSS:          residual sum of squares of the model\n",
      "    slope_SE:     standard error of the slope\n",
      "    intercept_SE: standard error of the intercept\n",
      "    slope_CI:     95% confidence interval of the slope\n",
      "    intercept_CI: 95% condidence interval of the intercept\n",
      "    t_statistic:\n",
      "\n",
      "Help on function generate_dataset in module __main__:\n",
      "\n",
      "generate_dataset(n, x_min, x_max, slope, intercept, e_mean, e_std)\n",
      "    Generates a dataset according to the input parameters\n",
      "    \n",
      "    Keyword Arguments:\n",
      "    n:            number of observations\n",
      "    x_min, x_max: limits of the preditor's range (x_min <= x <= x_max)\n",
      "    slope:        slope of the true linear model\n",
      "    intercept:    intercept of the true linear model\n",
      "    e_mean:       error term mean\n",
      "    e_std:        error term standard deviation\n",
      "    \n",
      "    Output:\n",
      "    X: predictor values\n",
      "    Y: response values\n",
      "\n"
     ]
    }
   ],
   "source": [
    "help(mean)\n",
    "help(linear_regression)\n",
    "help(generate_dataset)"
   ]
  },
  {
   "cell_type": "code",
   "execution_count": null,
   "metadata": {},
   "outputs": [],
   "source": []
  },
  {
   "cell_type": "code",
   "execution_count": null,
   "metadata": {},
   "outputs": [],
   "source": []
  }
 ],
 "metadata": {
  "kernelspec": {
   "display_name": "Python 3",
   "language": "python",
   "name": "python3"
  },
  "language_info": {
   "codemirror_mode": {
    "name": "ipython",
    "version": 3
   },
   "file_extension": ".py",
   "mimetype": "text/x-python",
   "name": "python",
   "nbconvert_exporter": "python",
   "pygments_lexer": "ipython3",
   "version": "3.8.5"
  }
 },
 "nbformat": 4,
 "nbformat_minor": 4
}
